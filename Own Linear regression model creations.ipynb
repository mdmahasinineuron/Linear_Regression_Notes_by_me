{
 "cells": [
  {
   "cell_type": "markdown",
   "id": "23adc9d1",
   "metadata": {},
   "source": [
    "# I am creating my own Linear Regression model"
   ]
  },
  {
   "cell_type": "code",
   "execution_count": 419,
   "id": "79c79344",
   "metadata": {},
   "outputs": [],
   "source": [
    "import pandas as pd\n",
    "import numpy as np\n",
    "from sklearn.model_selection import train_test_split\n",
    "from sklearn.linear_model import LinearRegression\n",
    "import warnings\n",
    "warnings.filterwarnings(\"ignore\")\n",
    "import matplotlib as plt\n",
    "import seaborn as sns"
   ]
  },
  {
   "cell_type": "code",
   "execution_count": 420,
   "id": "69d999cf",
   "metadata": {},
   "outputs": [],
   "source": [
    "from sklearn.datasets import load_boston\n",
    "boston_data = load_boston()\n",
    "values = boston_data.data\n",
    "columnss = boston_data.feature_names\n",
    "boston_df = pd.DataFrame(data= values, columns=columnss)"
   ]
  },
  {
   "cell_type": "code",
   "execution_count": 421,
   "id": "c563cab5",
   "metadata": {},
   "outputs": [],
   "source": [
    "target = pd.DataFrame(boston_data.target)\n",
    "target.set_axis(['price'], axis=1,inplace=True)"
   ]
  },
  {
   "cell_type": "markdown",
   "id": "02f68cc4",
   "metadata": {},
   "source": [
    "# Simple Linear regressions"
   ]
  },
  {
   "cell_type": "code",
   "execution_count": 422,
   "id": "acd214fb",
   "metadata": {},
   "outputs": [],
   "source": [
    "#Average room per house as x data fpr linear regression.\n",
    "X = boston_df['RM']\n",
    "y = target"
   ]
  },
  {
   "cell_type": "code",
   "execution_count": 423,
   "id": "8638bd0d",
   "metadata": {},
   "outputs": [],
   "source": [
    "X_train, X_test, y_train, y_test = train_test_split(X, y, test_size=0.2, random_state=2)"
   ]
  },
  {
   "cell_type": "code",
   "execution_count": 424,
   "id": "bb074e6f",
   "metadata": {},
   "outputs": [],
   "source": [
    "SkLr = LinearRegression()"
   ]
  },
  {
   "cell_type": "code",
   "execution_count": 425,
   "id": "40abefc3",
   "metadata": {},
   "outputs": [],
   "source": [
    "X_train = pd.DataFrame(X_train)\n",
    "X_test = pd.DataFrame(X_test)"
   ]
  },
  {
   "cell_type": "code",
   "execution_count": 426,
   "id": "bf2fdcfa",
   "metadata": {},
   "outputs": [
    {
     "name": "stdout",
     "output_type": "stream",
     "text": [
      "[-32.55158437] [[8.74934434]]\n"
     ]
    }
   ],
   "source": [
    "SkLr.fit(X_train,y_train)\n",
    "\n",
    "y_predict = SkLr.predict(X_test)\n",
    "\n",
    "from sklearn.metrics import r2_score\n",
    "\n",
    "r2_score(y_test, y_predict)\n",
    "\n",
    "print(SkLr.intercept_, SkLr.coef_)"
   ]
  },
  {
   "cell_type": "markdown",
   "id": "582084a4",
   "metadata": {},
   "source": [
    "### Creating My own LR Class"
   ]
  },
  {
   "cell_type": "code",
   "execution_count": 427,
   "id": "1e4746eb",
   "metadata": {},
   "outputs": [],
   "source": [
    "#making my own class\n",
    "\n",
    "import numpy as np\n",
    "import pandas as pd\n",
    "\n",
    "class MyLr:\n",
    "    \n",
    "    def __init__(self):\n",
    "        \n",
    "        self.m = 0\n",
    "        self.b = 0\n",
    "        \n",
    "    def train(self, X_train, y_train):\n",
    "        \n",
    "        numa = 0\n",
    "        deno = 0\n",
    "        \n",
    "        for i in range(len(X_train)):\n",
    "            deno = deno + (y_train.iloc[i,:].values[0] - y_train.mean().values[0])*(X_train.iloc[i,:].values[0] -\n",
    "                                                                                    X_train.mean().values[0])\n",
    "            \n",
    "            numa = numa + (X_train.iloc[i,:].values[0] - X_train.mean().values[0])*(X_train.iloc[i,:].values[0] - \n",
    "                                                                                    X_train.mean().values[0])\n",
    "            \n",
    "        self.m = deno/numa\n",
    "        \n",
    "        self.b = y_train.mean().values[0] - self.m*X_train.mean().values[0]\n",
    "        \n",
    "\n",
    "        return print(f\"model has been trained intercept = {self.b} and slope = {self.m} \")\n",
    "        \n",
    "    def predict(self, x_test:list)->list:\n",
    "        \n",
    "\n",
    "        x_test = pd.DataFrame(data= x_test)\n",
    "\n",
    "        output = []\n",
    "        \n",
    "        for i in range(len(x_test)):\n",
    "            \n",
    "            res = self.m*x_test.iloc[i,:].values[0] + self.b\n",
    "            \n",
    "            output.append(res)\n",
    "            \n",
    "        return np.array([output]).reshape(len(output),1)"
   ]
  },
  {
   "cell_type": "code",
   "execution_count": 428,
   "id": "b6af3f7a",
   "metadata": {},
   "outputs": [],
   "source": [
    "myobj = MyLr()"
   ]
  },
  {
   "cell_type": "code",
   "execution_count": 429,
   "id": "dbc683fb",
   "metadata": {},
   "outputs": [
    {
     "name": "stdout",
     "output_type": "stream",
     "text": [
      "model has been trained intercept = -32.5515843678096 and slope = 8.749344338735002 \n"
     ]
    }
   ],
   "source": [
    "myobj.train(X_train, y_train)"
   ]
  },
  {
   "cell_type": "code",
   "execution_count": 430,
   "id": "f2ffbeea",
   "metadata": {},
   "outputs": [
    {
     "name": "stdout",
     "output_type": "stream",
     "text": [
      "Intercept and cofficent from sk learn model [-32.55158437]  [[8.74934434]]\n",
      "Intercept and cofficent from my own created model -32.5515843678096  8.749344338735002\n"
     ]
    }
   ],
   "source": [
    "print(f\"Intercept and cofficent from sk learn model {SkLr.intercept_}  {SkLr.coef_}\")\n",
    "print(f\"Intercept and cofficent from my own created model {myobj.b}  {myobj.m}\")"
   ]
  },
  {
   "cell_type": "markdown",
   "id": "85d7faf2",
   "metadata": {},
   "source": [
    "## See both the value is same.   Hurray I have made my own LR algorithm!"
   ]
  },
  {
   "cell_type": "code",
   "execution_count": 431,
   "id": "27aeb746",
   "metadata": {},
   "outputs": [
    {
     "name": "stdout",
     "output_type": "stream",
     "text": [
      "r_2 score of Scikit Learn model = 0.6335439948424493\n",
      "r_2 score of my own created model  = 0.6335439948424488\n"
     ]
    }
   ],
   "source": [
    "print(f\"r_2 score of Scikit Learn model = {r2_score(y_test, SkLr.predict(X_test))}\")\n",
    "print(f\"r_2 score of my own created model  = {r2_score(y_test, myobj.predict(X_test))}\")"
   ]
  },
  {
   "cell_type": "markdown",
   "id": "70e87be8",
   "metadata": {},
   "source": [
    "## See both the value is same.   Hurray I have made my own LR algorithm!"
   ]
  },
  {
   "cell_type": "markdown",
   "id": "dcef9027",
   "metadata": {},
   "source": [
    "# Multiple Linear Regressions."
   ]
  },
  {
   "cell_type": "markdown",
   "id": "a7e651b5",
   "metadata": {},
   "source": [
    "### I can create my own MLR model but in sk learn it already available"
   ]
  },
  {
   "cell_type": "code",
   "execution_count": 432,
   "id": "c190577c",
   "metadata": {},
   "outputs": [],
   "source": [
    "X_train,X_test,y_train, y_test = train_test_split(boston_df, target, test_size=0.2, random_state=2)"
   ]
  },
  {
   "cell_type": "code",
   "execution_count": 433,
   "id": "f0a95ce8",
   "metadata": {},
   "outputs": [
    {
     "name": "stdout",
     "output_type": "stream",
     "text": [
      " The r2 score is 0.7789207451814428\n"
     ]
    }
   ],
   "source": [
    "mlr = LinearRegression()\n",
    "mlr.fit(X_train, y_train)\n",
    "y_predict = mlr.predict(X_test)\n",
    "print(f\" The r2 score is {r2_score(y_test, y_predict)}\")"
   ]
  },
  {
   "cell_type": "markdown",
   "id": "14044945",
   "metadata": {},
   "source": [
    "# Ploynomial Linear Regressions."
   ]
  },
  {
   "cell_type": "markdown",
   "id": "9b702647",
   "metadata": {},
   "source": [
    "#### Makung a polynomially related X and Y Data Point."
   ]
  },
  {
   "cell_type": "code",
   "execution_count": 476,
   "id": "da0290d7",
   "metadata": {},
   "outputs": [
    {
     "data": {
      "text/plain": [
       "<AxesSubplot:>"
      ]
     },
     "execution_count": 476,
     "metadata": {},
     "output_type": "execute_result"
    },
    {
     "data": {
      "image/png": "[encoded data removed]",
      "text/plain": [
       "<Figure size 640x480 with 1 Axes>"
      ]
     },
     "metadata": {},
     "output_type": "display_data"
    }
   ],
   "source": [
    "\n",
    "\n",
    "a = np.random.randint(2,10)\n",
    "b = np.random.randint(2,10)\n",
    "c = np.random.randint(2,10)\n",
    "\n",
    "X = []\n",
    "Y = []\n",
    "for i in range(100):\n",
    "    x = np.random.randint(-3,3) + np.random.random(1)\n",
    "    x_noise1 = x[0] - np.random.random(1)[0]\n",
    "    x_noise2 = x[0] + np.random.random(1)[0]\n",
    "    \n",
    "    \n",
    "    X.append(x[0])\n",
    "    X.append(x_noise1)\n",
    "    X.append(x_noise2)\n",
    "    \n",
    "    y = a*x*x + b*x + c\n",
    "    y_noise1 = y[0]+ np.random.randint(-6,5)\n",
    "    y_noise2 = y[0]+ np.random.randint(-6,5)\n",
    "    \n",
    "    \n",
    "    Y.append(y[0])\n",
    "    Y.append(y_noise1)\n",
    "    Y.append(y_noise1)\n",
    "    \n",
    "sns.scatterplot(X,Y)\n",
    "\n",
    "# Ploynomyal Functions is created you can see in graph"
   ]
  },
  {
   "cell_type": "code",
   "execution_count": 477,
   "id": "882c9a49",
   "metadata": {},
   "outputs": [],
   "source": [
    "X = pd.DataFrame(X)\n",
    "Y = pd.DataFrame(Y)"
   ]
  },
  {
   "cell_type": "code",
   "execution_count": 478,
   "id": "7ad43809",
   "metadata": {},
   "outputs": [],
   "source": [
    "X_train, X_test, y_train, y_test = train_test_split(X,Y, test_size=0.2, random_state=25)"
   ]
  },
  {
   "cell_type": "markdown",
   "id": "7d38d526",
   "metadata": {},
   "source": [
    "### We will use 1st linear regression then calculate the r2_score and then Polynomial Regressions then Calculate r_score then we compare"
   ]
  },
  {
   "cell_type": "code",
   "execution_count": 479,
   "id": "9c24e452",
   "metadata": {},
   "outputs": [
    {
     "data": {
      "text/plain": [
       "0.6766514586288175"
      ]
     },
     "execution_count": 479,
     "metadata": {},
     "output_type": "execute_result"
    }
   ],
   "source": [
    "Linear_model = LinearRegression()\n",
    "Linear_model.fit(X_train, y_train)\n",
    "y_predict = Linear_model.predict(X_test)\n",
    "r2_score(y_test, y_predict)"
   ]
  },
  {
   "cell_type": "markdown",
   "id": "acaf23f3",
   "metadata": {},
   "source": [
    "### Can see very low accuracy"
   ]
  },
  {
   "cell_type": "markdown",
   "id": "cfe86a1c",
   "metadata": {},
   "source": [
    "### Now we will use polynomial linear regressions."
   ]
  },
  {
   "cell_type": "code",
   "execution_count": 480,
   "id": "151d46c9",
   "metadata": {},
   "outputs": [],
   "source": [
    "from sklearn.preprocessing import PolynomialFeatures"
   ]
  },
  {
   "cell_type": "code",
   "execution_count": 481,
   "id": "bcf4a3d5",
   "metadata": {},
   "outputs": [],
   "source": [
    "polynomial_object = PolynomialFeatures(degree=2)\n",
    "\n",
    "X_train = polynomial_object.fit_transform(X_train)\n",
    "\n",
    "X_test = polynomial_object.transform(X_test)\n",
    "\n",
    "X_train = pd.DataFrame(X_train)\n",
    "X_test = pd.DataFrame(X_test)"
   ]
  },
  {
   "cell_type": "code",
   "execution_count": 482,
   "id": "7c76c63f",
   "metadata": {},
   "outputs": [
    {
     "data": {
      "text/plain": [
       "0.8513585489807223"
      ]
     },
     "execution_count": 482,
     "metadata": {},
     "output_type": "execute_result"
    }
   ],
   "source": [
    "Lin_model = LinearRegression()\n",
    "\n",
    "Lin_model.fit(X_train, y_train)\n",
    "\n",
    "y_predict = Lin_model.predict(X_test)\n",
    "\n",
    "r2_score(y_test, y_predict)"
   ]
  },
  {
   "cell_type": "code",
   "execution_count": null,
   "id": "3d049193",
   "metadata": {},
   "outputs": [],
   "source": [
    "# See very good score"
   ]
  }
 ],
 "metadata": {
  "kernelspec": {
   "display_name": "Python 3 (ipykernel)",
   "language": "python",
   "name": "python3"
  },
  "language_info": {
   "codemirror_mode": {
    "name": "ipython",
    "version": 3
   },
   "file_extension": ".py",
   "mimetype": "text/x-python",
   "name": "python",
   "nbconvert_exporter": "python",
   "pygments_lexer": "ipython3",
   "version": "3.9.13"
  }
 },
 "nbformat": 4,
 "nbformat_minor": 5
}
